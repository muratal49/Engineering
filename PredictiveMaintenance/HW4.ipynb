{
 "cells": [
  {
   "cell_type": "markdown",
   "id": "19b1709a-fae2-48e7-9df3-caed30424637",
   "metadata": {},
   "source": [
    "### Howework 4 "
   ]
  },
  {
   "cell_type": "markdown",
   "id": "0f842fb1-1698-4537-a7e5-1dad808bae2a",
   "metadata": {},
   "source": [
    "**8.12) ROC Curve:** "
   ]
  },
  {
   "cell_type": "code",
   "execution_count": 25,
   "id": "5c417482-3570-4c65-b4d3-3fa97d3a36f9",
   "metadata": {},
   "outputs": [],
   "source": [
    "import pandas as pd\n",
    "import numpy as np\n",
    "import shutil\n",
    "import os\n",
    "import matplotlib.pyplot as plt"
   ]
  },
  {
   "cell_type": "code",
   "execution_count": 19,
   "id": "6bfd5d2d-ca92-4f75-95ca-0239441f3adc",
   "metadata": {},
   "outputs": [],
   "source": [
    "# # source = \"HW4.ipynb\"\n",
    "# # destination = \"UR Masters/DSCC 440 Data Mining/HW4/HW4.ipynb\"\n",
    "# destination_dir = \"UR Masters/DSCC 440 Data Mining/HW4/\"\n",
    "# # Move the file\n",
    "# # shutil.move(source, destination)\n",
    "\n",
    "# os.chdir(destination_dir)"
   ]
  },
  {
   "cell_type": "code",
   "execution_count": 258,
   "id": "a059dd32-0d9c-4e95-b57a-d1315bd262e4",
   "metadata": {},
   "outputs": [],
   "source": [
    "df=pd.read_excel('ROC_Data.xlsx')"
   ]
  },
  {
   "cell_type": "code",
   "execution_count": 259,
   "id": "7670679c-28bb-4ba7-93ed-859584679c16",
   "metadata": {
    "scrolled": true
   },
   "outputs": [
    {
     "data": {
      "text/html": [
       "<div>\n",
       "<style scoped>\n",
       "    .dataframe tbody tr th:only-of-type {\n",
       "        vertical-align: middle;\n",
       "    }\n",
       "\n",
       "    .dataframe tbody tr th {\n",
       "        vertical-align: top;\n",
       "    }\n",
       "\n",
       "    .dataframe thead th {\n",
       "        text-align: right;\n",
       "    }\n",
       "</style>\n",
       "<table border=\"1\" class=\"dataframe\">\n",
       "  <thead>\n",
       "    <tr style=\"text-align: right;\">\n",
       "      <th></th>\n",
       "      <th>Tuple</th>\n",
       "      <th>Class</th>\n",
       "      <th>Prob</th>\n",
       "      <th>TP</th>\n",
       "      <th>FP</th>\n",
       "      <th>TN</th>\n",
       "      <th>FN</th>\n",
       "      <th>TPR</th>\n",
       "      <th>FPR</th>\n",
       "    </tr>\n",
       "  </thead>\n",
       "  <tbody>\n",
       "    <tr>\n",
       "      <th>0</th>\n",
       "      <td>1</td>\n",
       "      <td>P</td>\n",
       "      <td>0.95</td>\n",
       "      <td>1</td>\n",
       "      <td>0</td>\n",
       "      <td>5</td>\n",
       "      <td>4</td>\n",
       "      <td>0.2</td>\n",
       "      <td>0.0</td>\n",
       "    </tr>\n",
       "    <tr>\n",
       "      <th>1</th>\n",
       "      <td>2</td>\n",
       "      <td>N</td>\n",
       "      <td>0.85</td>\n",
       "      <td>1</td>\n",
       "      <td>1</td>\n",
       "      <td>4</td>\n",
       "      <td>3</td>\n",
       "      <td>0.2</td>\n",
       "      <td>0.2</td>\n",
       "    </tr>\n",
       "    <tr>\n",
       "      <th>2</th>\n",
       "      <td>3</td>\n",
       "      <td>P</td>\n",
       "      <td>0.78</td>\n",
       "      <td>2</td>\n",
       "      <td>1</td>\n",
       "      <td>4</td>\n",
       "      <td>3</td>\n",
       "      <td>0.4</td>\n",
       "      <td>0.2</td>\n",
       "    </tr>\n",
       "    <tr>\n",
       "      <th>3</th>\n",
       "      <td>4</td>\n",
       "      <td>P</td>\n",
       "      <td>0.66</td>\n",
       "      <td>3</td>\n",
       "      <td>1</td>\n",
       "      <td>4</td>\n",
       "      <td>2</td>\n",
       "      <td>0.6</td>\n",
       "      <td>0.2</td>\n",
       "    </tr>\n",
       "    <tr>\n",
       "      <th>4</th>\n",
       "      <td>5</td>\n",
       "      <td>N</td>\n",
       "      <td>0.60</td>\n",
       "      <td>3</td>\n",
       "      <td>2</td>\n",
       "      <td>3</td>\n",
       "      <td>2</td>\n",
       "      <td>0.6</td>\n",
       "      <td>0.4</td>\n",
       "    </tr>\n",
       "    <tr>\n",
       "      <th>5</th>\n",
       "      <td>6</td>\n",
       "      <td>P</td>\n",
       "      <td>0.55</td>\n",
       "      <td>4</td>\n",
       "      <td>2</td>\n",
       "      <td>3</td>\n",
       "      <td>1</td>\n",
       "      <td>0.8</td>\n",
       "      <td>0.4</td>\n",
       "    </tr>\n",
       "    <tr>\n",
       "      <th>6</th>\n",
       "      <td>7</td>\n",
       "      <td>N</td>\n",
       "      <td>0.53</td>\n",
       "      <td>4</td>\n",
       "      <td>3</td>\n",
       "      <td>2</td>\n",
       "      <td>1</td>\n",
       "      <td>0.8</td>\n",
       "      <td>0.6</td>\n",
       "    </tr>\n",
       "    <tr>\n",
       "      <th>7</th>\n",
       "      <td>8</td>\n",
       "      <td>N</td>\n",
       "      <td>0.52</td>\n",
       "      <td>4</td>\n",
       "      <td>4</td>\n",
       "      <td>1</td>\n",
       "      <td>1</td>\n",
       "      <td>0.8</td>\n",
       "      <td>0.8</td>\n",
       "    </tr>\n",
       "    <tr>\n",
       "      <th>8</th>\n",
       "      <td>9</td>\n",
       "      <td>N</td>\n",
       "      <td>0.51</td>\n",
       "      <td>4</td>\n",
       "      <td>5</td>\n",
       "      <td>0</td>\n",
       "      <td>1</td>\n",
       "      <td>0.8</td>\n",
       "      <td>1.0</td>\n",
       "    </tr>\n",
       "    <tr>\n",
       "      <th>9</th>\n",
       "      <td>10</td>\n",
       "      <td>P</td>\n",
       "      <td>0.40</td>\n",
       "      <td>5</td>\n",
       "      <td>5</td>\n",
       "      <td>0</td>\n",
       "      <td>0</td>\n",
       "      <td>1.0</td>\n",
       "      <td>1.0</td>\n",
       "    </tr>\n",
       "  </tbody>\n",
       "</table>\n",
       "</div>"
      ],
      "text/plain": [
       "   Tuple Class  Prob  TP  FP  TN  FN  TPR  FPR\n",
       "0      1     P  0.95   1   0   5   4  0.2  0.0\n",
       "1      2     N  0.85   1   1   4   3  0.2  0.2\n",
       "2      3     P  0.78   2   1   4   3  0.4  0.2\n",
       "3      4     P  0.66   3   1   4   2  0.6  0.2\n",
       "4      5     N  0.60   3   2   3   2  0.6  0.4\n",
       "5      6     P  0.55   4   2   3   1  0.8  0.4\n",
       "6      7     N  0.53   4   3   2   1  0.8  0.6\n",
       "7      8     N  0.52   4   4   1   1  0.8  0.8\n",
       "8      9     N  0.51   4   5   0   1  0.8  1.0\n",
       "9     10     P  0.40   5   5   0   0  1.0  1.0"
      ]
     },
     "execution_count": 259,
     "metadata": {},
     "output_type": "execute_result"
    }
   ],
   "source": [
    "df"
   ]
  },
  {
   "cell_type": "code",
   "execution_count": 260,
   "id": "1174b254-ab67-4aaa-8a6e-ff63749daee4",
   "metadata": {},
   "outputs": [],
   "source": [
    "x = np.arange(0, 1, 0.001)\n"
   ]
  },
  {
   "cell_type": "code",
   "execution_count": 261,
   "id": "57e1d405-220a-4ff5-a5d6-530d04ef970a",
   "metadata": {},
   "outputs": [
    {
     "data": {
      "image/png": "[encoded data removed]",
      "text/plain": [
       "<Figure size 432x432 with 1 Axes>"
      ]
     },
     "metadata": {
      "needs_background": "light"
     },
     "output_type": "display_data"
    }
   ],
   "source": [
    "plt.figure(figsize=(6,6));\n",
    "plt.plot(df.FPR,df.TPR, marker='o', linestyle='-', color='b', label='ROC Curve')\n",
    "plt.plot(x, x,color='r',label='Random Guess')\n",
    "\n",
    "# Add labels and title\n",
    "plt.xlabel('False Positive Rate (FPR)')\n",
    "plt.ylabel('True Positive Rate (TPR)')\n",
    "plt.title('ROC Curve')\n",
    "plt.legend()\n",
    "plt.grid()\n",
    "plt.show()\n"
   ]
  },
  {
   "cell_type": "markdown",
   "id": "b467e9e5-0132-4b79-ba53-176c41d5ed71",
   "metadata": {},
   "source": [
    "**8.14) Comparing  models M1 and M2, given their error rates:**"
   ]
  },
  {
   "cell_type": "markdown",
   "id": "935c3085-bc3d-4462-a7a1-0f22dff8927a",
   "metadata": {},
   "source": [
    "Is one model significantly better than the other based on an alpha=0.01?"
   ]
  },
  {
   "cell_type": "markdown",
   "id": "090a0901-731c-4103-b5e4-93536bd3a243",
   "metadata": {},
   "source": [
    "**MANUAL SOLUTION:**"
   ]
  },
  {
   "cell_type": "code",
   "execution_count": 67,
   "id": "81468b0b-fbd7-4bd3-97ed-96c91a6924e0",
   "metadata": {},
   "outputs": [],
   "source": [
    "M1=[30.5,32.2,20.7,20.6,31,41,27.7,26,21.5,26]\n",
    "\n",
    "M2=[22.4,14.5,22.4,19.6,20.7,20.4,22.1,19.4,16.2,35]"
   ]
  },
  {
   "cell_type": "code",
   "execution_count": 68,
   "id": "e76fb5b7-83c3-4cdf-88c5-4903021d66a8",
   "metadata": {},
   "outputs": [],
   "source": [
    "alpha=0.01"
   ]
  },
  {
   "cell_type": "markdown",
   "id": "fd2e6d09-2028-4450-b267-c0e00802e831",
   "metadata": {},
   "source": [
    "Here, a paired t-test can be applied with the null hypothesis being:\n",
    "\n",
    "- **Null Hypothesis (H₀):** $ \\mu_1 = \\mu_2 $\n",
    "- **Alternative Hypothesis (H₁):** $ \\mu_1 \\neq \\mu_2 $\n"
   ]
  },
  {
   "cell_type": "code",
   "execution_count": 58,
   "id": "e3031de1-1df2-4ba8-bbc4-68268ef9d611",
   "metadata": {},
   "outputs": [],
   "source": [
    "mu1=np.mean(M1)\n",
    "mu2=np.mean(M2)\n",
    "n=len(M1)"
   ]
  },
  {
   "cell_type": "markdown",
   "id": "ee91f180-f2e1-4316-a2a1-4be173bb55d6",
   "metadata": {},
   "source": [
    "Standart Deviations for a paired sample t test:"
   ]
  },
  {
   "cell_type": "code",
   "execution_count": 72,
   "id": "42e29154-b717-45fb-b2b0-7265d2a9065e",
   "metadata": {},
   "outputs": [
    {
     "name": "stdout",
     "output_type": "stream",
     "text": [
      "Variance: 68.123\n"
     ]
    }
   ],
   "source": [
    "#Here we will use n as this is the population we have:\n",
    "var = (1 / n) * sum([(M1[i] - M2[i] - (mu1 - mu2))**2 for i in range(n)])\n",
    "print(\"Variance:\", round(var,3))"
   ]
  },
  {
   "cell_type": "markdown",
   "id": "3a221521-3754-42ab-be2d-bd809454b640",
   "metadata": {},
   "source": [
    "**t-statistic is given as:**\n",
    "$$ t=\\frac{(\\mu_1-\\mu_2)-0}{\\sqrt\\frac{var}{n}}$$"
   ]
  },
  {
   "cell_type": "code",
   "execution_count": 73,
   "id": "3f010c84-d5f0-4619-8223-2aff0bda1f4a",
   "metadata": {},
   "outputs": [
    {
     "data": {
      "text/plain": [
       "2.4712371600876786"
      ]
     },
     "execution_count": 73,
     "metadata": {},
     "output_type": "execute_result"
    }
   ],
   "source": [
    "t=(mu1-mu2)/np.sqrt(var/n)\n",
    "t"
   ]
  },
  {
   "cell_type": "code",
   "execution_count": 76,
   "id": "e29c0d03-9af3-4764-bb4e-1d6839157802",
   "metadata": {},
   "outputs": [],
   "source": [
    "dof=n-1"
   ]
  },
  {
   "cell_type": "markdown",
   "id": "9fba1c97-f75a-4cea-ae19-6c7c2b6570e0",
   "metadata": {},
   "source": [
    "Using the t value and the dof=9 above we should check the critical t-value for the given alpha.  \n",
    "Here this is **two-sided t-test**!  \n",
    "**Checking from the tables t critical values  on both ends are:**\n",
    "$$t_{critical}=\\pm{ 3.2498}$$\n"
   ]
  },
  {
   "cell_type": "markdown",
   "id": "ea429019-bbc7-4919-94a0-6ac1c0f776e1",
   "metadata": {},
   "source": [
    "**Our value t=2.471 is within the Confidence region.Therefore we FAIL TO REJECT the NULL.  \n",
    "**The two models are not significantly different.**"
   ]
  },
  {
   "cell_type": "markdown",
   "id": "1653ab55-2ad6-4b4d-9a82-b7cf98dff699",
   "metadata": {},
   "source": [
    "**SOLVING USING SCIPY:**"
   ]
  },
  {
   "cell_type": "code",
   "execution_count": 75,
   "id": "c3d1b50f-0dbd-45ef-8b61-d9aec6c3329e",
   "metadata": {},
   "outputs": [
    {
     "name": "stdout",
     "output_type": "stream",
     "text": [
      "T-statistic: 2.344421419296965\n",
      "P-value: 0.043702633095373596\n",
      "Fail to reject the null hypothesis: No significant difference in errors between the models.\n"
     ]
    }
   ],
   "source": [
    "from scipy.stats import ttest_rel\n",
    "t_stat, p_value = ttest_rel(M1, M2)\n",
    "# Print results\n",
    "print(f\"T-statistic: {t_stat}\")\n",
    "print(f\"P-value: {p_value}\")\n",
    "\n",
    "# Determine if we reject the null hypothesis\n",
    "if p_value < alpha:\n",
    "    print(\"Reject the null hypothesis: There is a significant difference in errors between the models.\")\n",
    "else:\n",
    "    print(\"Fail to reject the null hypothesis: No significant difference in errors between the models.\")\n"
   ]
  },
  {
   "cell_type": "markdown",
   "id": "acac0986-c756-463f-b1b8-dccc0bb96b53",
   "metadata": {},
   "source": [
    "The reason T-statistic is slighly different here is it used (n-1) in calculating the Var.  \n",
    "I used the equation 8.32 given in the book.\n",
    "But the conclusion is the same."
   ]
  },
  {
   "cell_type": "markdown",
   "id": "2461f328-804e-4897-bc44-e247242a0b43",
   "metadata": {},
   "source": [
    "## **Problem 6**"
   ]
  },
  {
   "cell_type": "code",
   "execution_count": 231,
   "id": "19c841b8-595c-4ba3-9502-bdda5cd1a7e1",
   "metadata": {},
   "outputs": [
    {
     "data": {
      "text/html": [
       "<div>\n",
       "<style scoped>\n",
       "    .dataframe tbody tr th:only-of-type {\n",
       "        vertical-align: middle;\n",
       "    }\n",
       "\n",
       "    .dataframe tbody tr th {\n",
       "        vertical-align: top;\n",
       "    }\n",
       "\n",
       "    .dataframe thead th {\n",
       "        text-align: right;\n",
       "    }\n",
       "</style>\n",
       "<table border=\"1\" class=\"dataframe\">\n",
       "  <thead>\n",
       "    <tr style=\"text-align: right;\">\n",
       "      <th></th>\n",
       "      <th>Age</th>\n",
       "      <th>Income</th>\n",
       "      <th>Employed</th>\n",
       "      <th>Credit Score</th>\n",
       "      <th>Property Owner</th>\n",
       "      <th>Loan Approved</th>\n",
       "    </tr>\n",
       "  </thead>\n",
       "  <tbody>\n",
       "    <tr>\n",
       "      <th>0</th>\n",
       "      <td>&lt;= 25</td>\n",
       "      <td>Low</td>\n",
       "      <td>No</td>\n",
       "      <td>Fair</td>\n",
       "      <td>No</td>\n",
       "      <td>Denied</td>\n",
       "    </tr>\n",
       "    <tr>\n",
       "      <th>1</th>\n",
       "      <td>&lt;= 25</td>\n",
       "      <td>High</td>\n",
       "      <td>Yes</td>\n",
       "      <td>Excellent</td>\n",
       "      <td>Yes</td>\n",
       "      <td>Approved</td>\n",
       "    </tr>\n",
       "    <tr>\n",
       "      <th>2</th>\n",
       "      <td>26-35</td>\n",
       "      <td>Medium</td>\n",
       "      <td>Yes</td>\n",
       "      <td>Fair</td>\n",
       "      <td>No</td>\n",
       "      <td>Approved</td>\n",
       "    </tr>\n",
       "    <tr>\n",
       "      <th>3</th>\n",
       "      <td>&gt; 35</td>\n",
       "      <td>High</td>\n",
       "      <td>Yes</td>\n",
       "      <td>Excellent</td>\n",
       "      <td>Yes</td>\n",
       "      <td>Approved</td>\n",
       "    </tr>\n",
       "    <tr>\n",
       "      <th>4</th>\n",
       "      <td>&gt; 35</td>\n",
       "      <td>Low</td>\n",
       "      <td>No</td>\n",
       "      <td>Fair</td>\n",
       "      <td>No</td>\n",
       "      <td>Denied</td>\n",
       "    </tr>\n",
       "    <tr>\n",
       "      <th>5</th>\n",
       "      <td>26-35</td>\n",
       "      <td>Low</td>\n",
       "      <td>Yes</td>\n",
       "      <td>Excellent</td>\n",
       "      <td>No</td>\n",
       "      <td>Approved</td>\n",
       "    </tr>\n",
       "    <tr>\n",
       "      <th>6</th>\n",
       "      <td>&lt;= 25</td>\n",
       "      <td>Medium</td>\n",
       "      <td>No</td>\n",
       "      <td>Fair</td>\n",
       "      <td>No</td>\n",
       "      <td>Denied</td>\n",
       "    </tr>\n",
       "    <tr>\n",
       "      <th>7</th>\n",
       "      <td>&lt;= 25</td>\n",
       "      <td>High</td>\n",
       "      <td>Yes</td>\n",
       "      <td>Fair</td>\n",
       "      <td>Yes</td>\n",
       "      <td>Approved</td>\n",
       "    </tr>\n",
       "    <tr>\n",
       "      <th>8</th>\n",
       "      <td>26-35</td>\n",
       "      <td>Medium</td>\n",
       "      <td>No</td>\n",
       "      <td>Excellent</td>\n",
       "      <td>Yes</td>\n",
       "      <td>Approved</td>\n",
       "    </tr>\n",
       "    <tr>\n",
       "      <th>9</th>\n",
       "      <td>&gt; 35</td>\n",
       "      <td>Medium</td>\n",
       "      <td>Yes</td>\n",
       "      <td>Fair</td>\n",
       "      <td>No</td>\n",
       "      <td>Approved</td>\n",
       "    </tr>\n",
       "    <tr>\n",
       "      <th>10</th>\n",
       "      <td>&lt;= 25</td>\n",
       "      <td>Low</td>\n",
       "      <td>No</td>\n",
       "      <td>Fair</td>\n",
       "      <td>No</td>\n",
       "      <td>Denied</td>\n",
       "    </tr>\n",
       "    <tr>\n",
       "      <th>11</th>\n",
       "      <td>26-35</td>\n",
       "      <td>High</td>\n",
       "      <td>Yes</td>\n",
       "      <td>Excellent</td>\n",
       "      <td>Yes</td>\n",
       "      <td>Approved</td>\n",
       "    </tr>\n",
       "    <tr>\n",
       "      <th>12</th>\n",
       "      <td>26-35</td>\n",
       "      <td>Medium</td>\n",
       "      <td>Yes</td>\n",
       "      <td>Fair</td>\n",
       "      <td>Yes</td>\n",
       "      <td>Approved</td>\n",
       "    </tr>\n",
       "    <tr>\n",
       "      <th>13</th>\n",
       "      <td>&gt; 35</td>\n",
       "      <td>High</td>\n",
       "      <td>No</td>\n",
       "      <td>Fair</td>\n",
       "      <td>No</td>\n",
       "      <td>Denied</td>\n",
       "    </tr>\n",
       "    <tr>\n",
       "      <th>14</th>\n",
       "      <td>&gt; 35</td>\n",
       "      <td>Medium</td>\n",
       "      <td>Yes</td>\n",
       "      <td>Excellent</td>\n",
       "      <td>Yes</td>\n",
       "      <td>Approved</td>\n",
       "    </tr>\n",
       "  </tbody>\n",
       "</table>\n",
       "</div>"
      ],
      "text/plain": [
       "      Age  Income Employed Credit Score Property Owner Loan Approved\n",
       "0   <= 25     Low       No         Fair             No        Denied\n",
       "1   <= 25    High      Yes    Excellent            Yes      Approved\n",
       "2   26-35  Medium      Yes         Fair             No      Approved\n",
       "3    > 35    High      Yes    Excellent            Yes      Approved\n",
       "4    > 35     Low       No         Fair             No        Denied\n",
       "5   26-35     Low      Yes    Excellent             No      Approved\n",
       "6   <= 25  Medium       No         Fair             No        Denied\n",
       "7   <= 25    High      Yes         Fair            Yes      Approved\n",
       "8   26-35  Medium       No    Excellent            Yes      Approved\n",
       "9    > 35  Medium      Yes         Fair             No      Approved\n",
       "10  <= 25     Low       No         Fair             No        Denied\n",
       "11  26-35    High      Yes    Excellent            Yes      Approved\n",
       "12  26-35  Medium      Yes         Fair            Yes      Approved\n",
       "13   > 35    High       No         Fair             No        Denied\n",
       "14   > 35  Medium      Yes    Excellent            Yes      Approved"
      ]
     },
     "execution_count": 231,
     "metadata": {},
     "output_type": "execute_result"
    }
   ],
   "source": [
    "table = {\n",
    "    'Age': ['<= 25', '<= 25', '26-35', '> 35', '> 35', '26-35', '<= 25', '<= 25', '26-35', '> 35', \n",
    "            '<= 25', '26-35', '26-35', '> 35', '> 35'],\n",
    "    'Income': ['Low', 'High', 'Medium', 'High', 'Low', 'Low', 'Medium', 'High', 'Medium', 'Medium', \n",
    "               'Low', 'High', 'Medium', 'High', 'Medium'],\n",
    "    'Employed': ['No', 'Yes', 'Yes', 'Yes', 'No', 'Yes', 'No', 'Yes', 'No','Yes', \n",
    "                 'No', 'Yes', 'Yes', 'No','Yes'],\n",
    "    'Credit Score': ['Fair', 'Excellent', 'Fair', 'Excellent', 'Fair', 'Excellent',  'Fair', 'Fair', 'Excellent','Fair', 'Fair', \n",
    "                     'Excellent','Fair', 'Fair', 'Excellent'],\n",
    "    'Property Owner': ['No', 'Yes','No', 'Yes','No','No', 'No', 'Yes','Yes', 'No','No', 'Yes','Yes', 'No','Yes'],\n",
    "    'Loan Approved': ['Denied', 'Approved', 'Approved', 'Approved','Denied', 'Approved', 'Denied', 'Approved', \n",
    "                      'Approved', 'Approved', 'Denied', 'Approved', 'Approved', 'Denied', 'Approved']\n",
    "}\n",
    "\n",
    "# Create DataFrame\n",
    "df = pd.DataFrame(table)\n",
    "df\n"
   ]
  },
  {
   "cell_type": "code",
   "execution_count": 232,
   "id": "dfe17a4e-c08e-4359-9320-374506dc5b34",
   "metadata": {},
   "outputs": [],
   "source": [
    "\n",
    "# results = {}\n",
    "# for col in df.columns:\n",
    "#     if col != 'Loan Approved':\n",
    "#         # Group by the current column and 'Loan Approved', then get the counts\n",
    "#         grouped_counts = df.groupby([col, 'Loan Approved']).size().reset_index(name='Counts')\n",
    "#         # Store the result in the dictionary with the column name as the key\n",
    "#         results[f'AVC for {col}'] = grouped_counts\n",
    "\n",
    "# # Results:\n",
    "# for key, value in results.items():\n",
    "#     print(f\"{key}:\")\n",
    "#     print(value)\n",
    "#     print()\n"
   ]
  },
  {
   "cell_type": "code",
   "execution_count": 233,
   "id": "ecf3ef37-1b93-46e2-97d8-e15d02335883",
   "metadata": {},
   "outputs": [
    {
     "name": "stdout",
     "output_type": "stream",
     "text": [
      "AVC for Age:\n",
      "____________________\n",
      "Loan Approved  Approved  Denied\n",
      "Age                            \n",
      "26-35                 5       0\n",
      "<= 25                 2       3\n",
      "> 35                  3       2\n",
      "\n",
      "AVC for Income:\n",
      "____________________\n",
      "Loan Approved  Approved  Denied\n",
      "Income                         \n",
      "High                  4       1\n",
      "Low                   1       3\n",
      "Medium                5       1\n",
      "\n",
      "AVC for Employed:\n",
      "____________________\n",
      "Loan Approved  Approved  Denied\n",
      "Employed                       \n",
      "No                    1       5\n",
      "Yes                   9       0\n",
      "\n",
      "AVC for Credit Score:\n",
      "____________________\n",
      "Loan Approved  Approved  Denied\n",
      "Credit Score                   \n",
      "Excellent             6       0\n",
      "Fair                  4       5\n",
      "\n",
      "AVC for Property Owner:\n",
      "____________________\n",
      "Loan Approved   Approved  Denied\n",
      "Property Owner                  \n",
      "No                     3       5\n",
      "Yes                    7       0\n",
      "\n"
     ]
    }
   ],
   "source": [
    "# Dictionary to store the contingency tables for each feature\n",
    "avc_tables = {}\n",
    "\n",
    "for col in df.columns:\n",
    "    if col != 'Loan Approved':\n",
    "        # Create a contingency table with Approved and Denied as columns\n",
    "        table = pd.crosstab(df[col], df['Loan Approved'])\n",
    "        \n",
    "        # Store the contingency table in the dictionary\n",
    "        avc_tables[f'AVC for {col}'] = table\n",
    "\n",
    "# Display each contingency table\n",
    "for key, table in avc_tables.items():\n",
    "    print(f\"{key}:\")\n",
    "    print('____________________')\n",
    "    print(table)\n",
    "    print()\n",
    "    \n"
   ]
  },
  {
   "cell_type": "markdown",
   "id": "8c899fd5-6312-4c16-8ee5-8790f13cbb83",
   "metadata": {},
   "source": [
    "## **Problem 7**"
   ]
  },
  {
   "cell_type": "markdown",
   "id": "22b9bab7-ea26-4263-b228-a8362629b9be",
   "metadata": {},
   "source": [
    "**a) Expected entropy:**"
   ]
  },
  {
   "cell_type": "code",
   "execution_count": 249,
   "id": "a0daf8e9-dbf1-448e-a1a3-0731be91d449",
   "metadata": {},
   "outputs": [
    {
     "data": {
      "text/plain": [
       "Approved    10\n",
       "Denied       5\n",
       "Name: Loan Approved, dtype: int64"
      ]
     },
     "execution_count": 249,
     "metadata": {},
     "output_type": "execute_result"
    }
   ],
   "source": [
    "df['Loan Approved'].value_counts()"
   ]
  },
  {
   "cell_type": "code",
   "execution_count": 250,
   "id": "3156c1d7-51ec-48ee-a1a1-4a966dd3b480",
   "metadata": {},
   "outputs": [
    {
     "name": "stdout",
     "output_type": "stream",
     "text": [
      "Entropy of the data set given=  0.9182958340544896\n"
     ]
    }
   ],
   "source": [
    "p1=10/15\n",
    "p2=5/15\n",
    "entropy=-p1*np.log2(p1)-p2*np.log2(p2)\n",
    "print('Entropy of the data set given= ',entropy)\n"
   ]
  },
  {
   "cell_type": "markdown",
   "id": "198a1a9a-c96b-42db-8ad1-899c8833c350",
   "metadata": {},
   "source": [
    "**b) Information needed after first Split based on 'Credit Score':**"
   ]
  },
  {
   "cell_type": "code",
   "execution_count": 251,
   "id": "ee61be33-26e6-448a-b443-b5a92a6b28fa",
   "metadata": {},
   "outputs": [
    {
     "data": {
      "text/html": [
       "<div>\n",
       "<style scoped>\n",
       "    .dataframe tbody tr th:only-of-type {\n",
       "        vertical-align: middle;\n",
       "    }\n",
       "\n",
       "    .dataframe tbody tr th {\n",
       "        vertical-align: top;\n",
       "    }\n",
       "\n",
       "    .dataframe thead th {\n",
       "        text-align: right;\n",
       "    }\n",
       "</style>\n",
       "<table border=\"1\" class=\"dataframe\">\n",
       "  <thead>\n",
       "    <tr style=\"text-align: right;\">\n",
       "      <th>Loan Approved</th>\n",
       "      <th>Approved</th>\n",
       "      <th>Denied</th>\n",
       "    </tr>\n",
       "    <tr>\n",
       "      <th>Credit Score</th>\n",
       "      <th></th>\n",
       "      <th></th>\n",
       "    </tr>\n",
       "  </thead>\n",
       "  <tbody>\n",
       "    <tr>\n",
       "      <th>Excellent</th>\n",
       "      <td>6</td>\n",
       "      <td>0</td>\n",
       "    </tr>\n",
       "    <tr>\n",
       "      <th>Fair</th>\n",
       "      <td>4</td>\n",
       "      <td>5</td>\n",
       "    </tr>\n",
       "  </tbody>\n",
       "</table>\n",
       "</div>"
      ],
      "text/plain": [
       "Loan Approved  Approved  Denied\n",
       "Credit Score                   \n",
       "Excellent             6       0\n",
       "Fair                  4       5"
      ]
     },
     "execution_count": 251,
     "metadata": {},
     "output_type": "execute_result"
    }
   ],
   "source": [
    "df_credit=avc_tables['AVC for Credit Score']\n",
    "df_credit"
   ]
  },
  {
   "cell_type": "markdown",
   "id": "e8a3d679-7a6c-4bbd-9080-91fc61ebf92d",
   "metadata": {},
   "source": [
    "$$\n",
    "\\text{Info}_{\\text{credit}}(D) = \\left( \\frac{6}{15} \\right) I(6, 0) + \\left( \\frac{9}{15} \\right) I(4, 5)  $$\n"
   ]
  },
  {
   "cell_type": "code",
   "execution_count": 240,
   "id": "ffcf8c0d-9dae-4496-a1f1-64704c010f4f",
   "metadata": {},
   "outputs": [
    {
     "name": "stdout",
     "output_type": "stream",
     "text": [
      "-0.0 0\n",
      "0.5199666673076944 0.4711093925305278\n",
      "Info needed after splitting by Credit Score:  0.595\n"
     ]
    }
   ],
   "source": [
    "branch_prob = np.divide([6,9], 15)\n",
    "credit_Ipairs = [(6, 0), (4, 5)]\n",
    "\n",
    "# Calculate entropy for each branch\n",
    "branch_ent = []\n",
    "for x, y in credit_Ipairs:\n",
    "    # Calculate probabilities\n",
    "    p1 = x / (x + y) if x + y > 0 else 0\n",
    "    p2 = y / (x + y) if x + y > 0 else 0\n",
    "    \n",
    "    # Entropy calculation with zero check\n",
    "    ent1 = 0\n",
    "    ent2 = 0\n",
    "    if p1 > 0:\n",
    "        ent1 = -p1 * np.log2(p1)\n",
    "    if p2 > 0:\n",
    "        ent2 = -p2 * np.log2(p2)\n",
    "    print(ent1, ent2)\n",
    "    branch_ent.append(ent1+ent2)\n",
    "\n",
    "# Calculate Info_credit\n",
    "info_credit = sum(branch_prob[i] * branch_ent[i] for i in range(len(branch_ent)))\n",
    "\n",
    "print('Info needed after splitting by Credit Score: ', round(info_credit,3))\n"
   ]
  },
  {
   "cell_type": "markdown",
   "id": "33001ea5-c664-41f2-a86f-c58a383c6e41",
   "metadata": {},
   "source": [
    "**c) Information gain after first Split based on 'Credit Score':**\n",
    "$$ Info Gain_{Credit Score}=Info(D)-Info_{CreditScore}(D) $$"
   ]
  },
  {
   "cell_type": "code",
   "execution_count": 241,
   "id": "a4984f03-3a2a-466d-a10a-91a3b8dfb05c",
   "metadata": {},
   "outputs": [
    {
     "name": "stdout",
     "output_type": "stream",
     "text": [
      "Gain after first splitting on Credit Score=  0.324\n"
     ]
    }
   ],
   "source": [
    "info_D=entropy\n",
    "Gain_credit=info_D-info_credit\n",
    "print('Gain after first splitting on Credit Score= ',round(Gain_credit,3))"
   ]
  },
  {
   "cell_type": "markdown",
   "id": "2d65ac22-83e5-48b8-9bd1-39f949a30132",
   "metadata": {},
   "source": [
    "### **$GAIN_{Credit Score}=0.324$**"
   ]
  },
  {
   "cell_type": "markdown",
   "id": "08b494aa-37c9-4bf1-bfea-5224f288c128",
   "metadata": {},
   "source": [
    "**d) Information needed after first split based on 'Income':**"
   ]
  },
  {
   "cell_type": "code",
   "execution_count": 244,
   "id": "622ef2bd-3eb6-4e03-8f42-9bab22ad6aee",
   "metadata": {},
   "outputs": [
    {
     "data": {
      "text/html": [
       "<div>\n",
       "<style scoped>\n",
       "    .dataframe tbody tr th:only-of-type {\n",
       "        vertical-align: middle;\n",
       "    }\n",
       "\n",
       "    .dataframe tbody tr th {\n",
       "        vertical-align: top;\n",
       "    }\n",
       "\n",
       "    .dataframe thead th {\n",
       "        text-align: right;\n",
       "    }\n",
       "</style>\n",
       "<table border=\"1\" class=\"dataframe\">\n",
       "  <thead>\n",
       "    <tr style=\"text-align: right;\">\n",
       "      <th>Loan Approved</th>\n",
       "      <th>Approved</th>\n",
       "      <th>Denied</th>\n",
       "    </tr>\n",
       "    <tr>\n",
       "      <th>Income</th>\n",
       "      <th></th>\n",
       "      <th></th>\n",
       "    </tr>\n",
       "  </thead>\n",
       "  <tbody>\n",
       "    <tr>\n",
       "      <th>High</th>\n",
       "      <td>4</td>\n",
       "      <td>1</td>\n",
       "    </tr>\n",
       "    <tr>\n",
       "      <th>Low</th>\n",
       "      <td>1</td>\n",
       "      <td>3</td>\n",
       "    </tr>\n",
       "    <tr>\n",
       "      <th>Medium</th>\n",
       "      <td>5</td>\n",
       "      <td>1</td>\n",
       "    </tr>\n",
       "  </tbody>\n",
       "</table>\n",
       "</div>"
      ],
      "text/plain": [
       "Loan Approved  Approved  Denied\n",
       "Income                         \n",
       "High                  4       1\n",
       "Low                   1       3\n",
       "Medium                5       1"
      ]
     },
     "execution_count": 244,
     "metadata": {},
     "output_type": "execute_result"
    }
   ],
   "source": [
    "df_income=avc_tables['AVC for Income']\n",
    "df_income"
   ]
  },
  {
   "cell_type": "markdown",
   "id": "5e07bd4d-3b2d-4ad5-9aff-9332b4efebec",
   "metadata": {},
   "source": [
    "$$ \\text{Info}_{\\text{income}}(D) = \\left( \\frac{5}{15} \\right) I(4, 1) + \\left( \\frac{4}{15} \\right) I(1, 3) + \\left( \\frac{6}{15} \\right) I(5, 1) $$\n"
   ]
  },
  {
   "cell_type": "code",
   "execution_count": 252,
   "id": "1051df88-7180-48c8-9e38-7119032125a5",
   "metadata": {},
   "outputs": [
    {
     "name": "stdout",
     "output_type": "stream",
     "text": [
      "0.2575424759098898 0.46438561897747244\n",
      "0.5 0.31127812445913283\n",
      "0.21919533819482817 0.430827083453526\n",
      "Info needed after splitting by In Income:  0.717\n"
     ]
    }
   ],
   "source": [
    "branch_prob = np.divide([5, 4,6], 15)\n",
    "income_Ipairs = [(4,1), (1,3), (5,1)]\n",
    "\n",
    "# Calculate entropy for each branch\n",
    "branch_ent = []\n",
    "for x, y in income_Ipairs:\n",
    "    # Calculate probabilities\n",
    "    p1 = x / (x + y) \n",
    "    p2 = y / (x + y) \n",
    "    # Entropy calculation with zero check\n",
    "    ent1 = 0\n",
    "    ent2 = 0\n",
    "    if p1 > 0:\n",
    "        ent1 = -p1 * np.log2(p1)\n",
    "    if p2 > 0:\n",
    "        ent2 = -p2 * np.log2(p2)\n",
    "    print(ent1, ent2)\n",
    "    branch_ent.append(ent1+ent2)\n",
    "\n",
    "\n",
    "# Calculate Info_credit\n",
    "info_income = sum(branch_prob[i] * branch_ent[i] for i in range(len(branch_ent)))\n",
    "\n",
    "print('Info needed after splitting by In Income: ', round(info_income,3))"
   ]
  },
  {
   "cell_type": "markdown",
   "id": "358ee40f-3ee9-4f1f-9bb4-29389fe1356b",
   "metadata": {},
   "source": [
    "**e) Information gain after first Split based on 'INCOME':**\n",
    "$$ Info Gain_{Income}=Info(D)-Info_{Income}(D) $$"
   ]
  },
  {
   "cell_type": "code",
   "execution_count": 253,
   "id": "09852b7d-ab7a-4e8d-ae30-35c3dee2afd3",
   "metadata": {},
   "outputs": [
    {
     "name": "stdout",
     "output_type": "stream",
     "text": [
      "Gain after first splitting on Income=  0.201\n"
     ]
    }
   ],
   "source": [
    "\n",
    "Gain_income=info_D-info_income\n",
    "print('Gain after first splitting on Income= ',round(Gain_income,3))"
   ]
  },
  {
   "cell_type": "markdown",
   "id": "9399a771-8ad8-416a-a3f9-6c52ba8734e0",
   "metadata": {},
   "source": [
    "### **$GAIN_{Income}=0.201$**"
   ]
  },
  {
   "cell_type": "markdown",
   "id": "d0cd526a-0989-46d6-af43-abbcd743e53e",
   "metadata": {},
   "source": [
    "**f) Based on these splits, CREDIT SCORE splits result in more GAIN than INCOME.So would pick CREDIT SCORE before Income.**"
   ]
  },
  {
   "cell_type": "code",
   "execution_count": 268,
   "id": "a48838c5-ffa6-4627-afb0-9ca47aa67e30",
   "metadata": {},
   "outputs": [
    {
     "data": {
      "text/plain": [
       "2.0"
      ]
     },
     "execution_count": 268,
     "metadata": {},
     "output_type": "execute_result"
    }
   ],
   "source": [
    "np.log10(100)"
   ]
  },
  {
   "cell_type": "code",
   "execution_count": 270,
   "id": "334a16c7-3981-4f73-b0be-d21eca1ff215",
   "metadata": {},
   "outputs": [
    {
     "data": {
      "text/plain": [
       "(-4.605170185988091, -0.01005033585350145)"
      ]
     },
     "execution_count": 270,
     "metadata": {},
     "output_type": "execute_result"
    }
   ],
   "source": [
    "np.log(0.01),np.log(0.99)"
   ]
  },
  {
   "cell_type": "code",
   "execution_count": null,
   "id": "e2174a19-79ff-45e8-8359-b2171f384fa8",
   "metadata": {},
   "outputs": [],
   "source": []
  }
 ],
 "metadata": {
  "kernelspec": {
   "display_name": "Python 3 (ipykernel)",
   "language": "python",
   "name": "python3"
  },
  "language_info": {
   "codemirror_mode": {
    "name": "ipython",
    "version": 3
   },
   "file_extension": ".py",
   "mimetype": "text/x-python",
   "name": "python",
   "nbconvert_exporter": "python",
   "pygments_lexer": "ipython3",
   "version": "3.9.9"
  }
 },
 "nbformat": 4,
 "nbformat_minor": 5
}
