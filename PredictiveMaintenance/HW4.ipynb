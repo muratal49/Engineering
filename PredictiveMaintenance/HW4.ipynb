{
 "cells": [
  {
   "cell_type": "markdown",
   "id": "19b1709a-fae2-48e7-9df3-caed30424637",
   "metadata": {},
   "source": [
    "### Howework 4 "
   ]
  },
  {
   "cell_type": "markdown",
   "id": "0f842fb1-1698-4537-a7e5-1dad808bae2a",
   "metadata": {},
   "source": [
    "**8.12) ROC Curve:** "
   ]
  },
  {
   "metadata": {},
   "cell_type": "code",
   "outputs": [],
   "execution_count": null,
   "source": "#edits3 ",
   "id": "da367f2c07263fe1"
  },
  {
   "cell_type": "code",
   "id": "5c417482-3570-4c65-b4d3-3fa97d3a36f9",
   "metadata": {
    "ExecuteTime": {
     "end_time": "2024-11-15T04:50:26.459772Z",
     "start_time": "2024-11-15T04:50:26.456211Z"
    }
   },
   "source": [
    " \n",
    "import pandas as pd\n",
    "import numpy as np\n",
    "import shutil\n",
    "import os\n",
    "import matplotlib.pyplot as plt"
   ],
   "outputs": [],
   "execution_count": 24
  },
  {
   "cell_type": "code",
   "id": "6bfd5d2d-ca92-4f75-95ca-0239441f3adc",
   "metadata": {
    "ExecuteTime": {
     "end_time": "2024-11-15T04:48:08.068111Z",
     "start_time": "2024-11-15T04:48:08.064355Z"
    }
   },
   "source": [
    "# # source = \"HW4.ipynb\"\n",
    "# # destination = \"UR Masters/DSCC 440 Data Mining/HW4/HW4.ipynb\"\n",
    "# destination_dir = \"UR Masters/DSCC 440 Data Mining/HW4/\"\n",
    "# # Move the file\n",
    "# # shutil.move(source, destination)\n",
    "\n",
    "# os.chdir(destination_dir)"
   ],
   "outputs": [],
   "execution_count": 4
  },
  {
   "cell_type": "code",
   "id": "a059dd32-0d9c-4e95-b57a-d1315bd262e4",
   "metadata": {
    "ExecuteTime": {
     "end_time": "2024-11-15T04:48:16.408671Z",
     "start_time": "2024-11-15T04:48:15.904354Z"
    }
   },
   "source": [
    "df=pd.read_excel('ROC_Data.xlsx')"
   ],
   "outputs": [
    {
     "ename": "FileNotFoundError",
     "evalue": "[Errno 2] No such file or directory: 'ROC_Data.xlsx'",
     "output_type": "error",
     "traceback": [
      "\u001B[0;31m---------------------------------------------------------------------------\u001B[0m",
      "\u001B[0;31mFileNotFoundError\u001B[0m                         Traceback (most recent call last)",
      "Input \u001B[0;32mIn [5]\u001B[0m, in \u001B[0;36m<module>\u001B[0;34m\u001B[0m\n\u001B[0;32m----> 1\u001B[0m df\u001B[38;5;241m=\u001B[39m\u001B[43mpd\u001B[49m\u001B[38;5;241;43m.\u001B[39;49m\u001B[43mread_excel\u001B[49m\u001B[43m(\u001B[49m\u001B[38;5;124;43m'\u001B[39;49m\u001B[38;5;124;43mROC_Data.xlsx\u001B[39;49m\u001B[38;5;124;43m'\u001B[39;49m\u001B[43m)\u001B[49m\n",
      "File \u001B[0;32m/opt/homebrew/lib/python3.9/site-packages/pandas/util/_decorators.py:211\u001B[0m, in \u001B[0;36mdeprecate_kwarg.<locals>._deprecate_kwarg.<locals>.wrapper\u001B[0;34m(*args, **kwargs)\u001B[0m\n\u001B[1;32m    209\u001B[0m     \u001B[38;5;28;01melse\u001B[39;00m:\n\u001B[1;32m    210\u001B[0m         kwargs[new_arg_name] \u001B[38;5;241m=\u001B[39m new_arg_value\n\u001B[0;32m--> 211\u001B[0m \u001B[38;5;28;01mreturn\u001B[39;00m \u001B[43mfunc\u001B[49m\u001B[43m(\u001B[49m\u001B[38;5;241;43m*\u001B[39;49m\u001B[43margs\u001B[49m\u001B[43m,\u001B[49m\u001B[43m \u001B[49m\u001B[38;5;241;43m*\u001B[39;49m\u001B[38;5;241;43m*\u001B[39;49m\u001B[43mkwargs\u001B[49m\u001B[43m)\u001B[49m\n",
      "File \u001B[0;32m/opt/homebrew/lib/python3.9/site-packages/pandas/util/_decorators.py:331\u001B[0m, in \u001B[0;36mdeprecate_nonkeyword_arguments.<locals>.decorate.<locals>.wrapper\u001B[0;34m(*args, **kwargs)\u001B[0m\n\u001B[1;32m    325\u001B[0m \u001B[38;5;28;01mif\u001B[39;00m \u001B[38;5;28mlen\u001B[39m(args) \u001B[38;5;241m>\u001B[39m num_allow_args:\n\u001B[1;32m    326\u001B[0m     warnings\u001B[38;5;241m.\u001B[39mwarn(\n\u001B[1;32m    327\u001B[0m         msg\u001B[38;5;241m.\u001B[39mformat(arguments\u001B[38;5;241m=\u001B[39m_format_argument_list(allow_args)),\n\u001B[1;32m    328\u001B[0m         \u001B[38;5;167;01mFutureWarning\u001B[39;00m,\n\u001B[1;32m    329\u001B[0m         stacklevel\u001B[38;5;241m=\u001B[39mfind_stack_level(),\n\u001B[1;32m    330\u001B[0m     )\n\u001B[0;32m--> 331\u001B[0m \u001B[38;5;28;01mreturn\u001B[39;00m \u001B[43mfunc\u001B[49m\u001B[43m(\u001B[49m\u001B[38;5;241;43m*\u001B[39;49m\u001B[43margs\u001B[49m\u001B[43m,\u001B[49m\u001B[43m \u001B[49m\u001B[38;5;241;43m*\u001B[39;49m\u001B[38;5;241;43m*\u001B[39;49m\u001B[43mkwargs\u001B[49m\u001B[43m)\u001B[49m\n",
      "File \u001B[0;32m/opt/homebrew/lib/python3.9/site-packages/pandas/io/excel/_base.py:482\u001B[0m, in \u001B[0;36mread_excel\u001B[0;34m(io, sheet_name, header, names, index_col, usecols, squeeze, dtype, engine, converters, true_values, false_values, skiprows, nrows, na_values, keep_default_na, na_filter, verbose, parse_dates, date_parser, thousands, decimal, comment, skipfooter, convert_float, mangle_dupe_cols, storage_options)\u001B[0m\n\u001B[1;32m    480\u001B[0m \u001B[38;5;28;01mif\u001B[39;00m \u001B[38;5;129;01mnot\u001B[39;00m \u001B[38;5;28misinstance\u001B[39m(io, ExcelFile):\n\u001B[1;32m    481\u001B[0m     should_close \u001B[38;5;241m=\u001B[39m \u001B[38;5;28;01mTrue\u001B[39;00m\n\u001B[0;32m--> 482\u001B[0m     io \u001B[38;5;241m=\u001B[39m \u001B[43mExcelFile\u001B[49m\u001B[43m(\u001B[49m\u001B[43mio\u001B[49m\u001B[43m,\u001B[49m\u001B[43m \u001B[49m\u001B[43mstorage_options\u001B[49m\u001B[38;5;241;43m=\u001B[39;49m\u001B[43mstorage_options\u001B[49m\u001B[43m,\u001B[49m\u001B[43m \u001B[49m\u001B[43mengine\u001B[49m\u001B[38;5;241;43m=\u001B[39;49m\u001B[43mengine\u001B[49m\u001B[43m)\u001B[49m\n\u001B[1;32m    483\u001B[0m \u001B[38;5;28;01melif\u001B[39;00m engine \u001B[38;5;129;01mand\u001B[39;00m engine \u001B[38;5;241m!=\u001B[39m io\u001B[38;5;241m.\u001B[39mengine:\n\u001B[1;32m    484\u001B[0m     \u001B[38;5;28;01mraise\u001B[39;00m \u001B[38;5;167;01mValueError\u001B[39;00m(\n\u001B[1;32m    485\u001B[0m         \u001B[38;5;124m\"\u001B[39m\u001B[38;5;124mEngine should not be specified when passing \u001B[39m\u001B[38;5;124m\"\u001B[39m\n\u001B[1;32m    486\u001B[0m         \u001B[38;5;124m\"\u001B[39m\u001B[38;5;124man ExcelFile - ExcelFile already has the engine set\u001B[39m\u001B[38;5;124m\"\u001B[39m\n\u001B[1;32m    487\u001B[0m     )\n",
      "File \u001B[0;32m/opt/homebrew/lib/python3.9/site-packages/pandas/io/excel/_base.py:1652\u001B[0m, in \u001B[0;36mExcelFile.__init__\u001B[0;34m(self, path_or_buffer, engine, storage_options)\u001B[0m\n\u001B[1;32m   1650\u001B[0m     ext \u001B[38;5;241m=\u001B[39m \u001B[38;5;124m\"\u001B[39m\u001B[38;5;124mxls\u001B[39m\u001B[38;5;124m\"\u001B[39m\n\u001B[1;32m   1651\u001B[0m \u001B[38;5;28;01melse\u001B[39;00m:\n\u001B[0;32m-> 1652\u001B[0m     ext \u001B[38;5;241m=\u001B[39m \u001B[43minspect_excel_format\u001B[49m\u001B[43m(\u001B[49m\n\u001B[1;32m   1653\u001B[0m \u001B[43m        \u001B[49m\u001B[43mcontent_or_path\u001B[49m\u001B[38;5;241;43m=\u001B[39;49m\u001B[43mpath_or_buffer\u001B[49m\u001B[43m,\u001B[49m\u001B[43m \u001B[49m\u001B[43mstorage_options\u001B[49m\u001B[38;5;241;43m=\u001B[39;49m\u001B[43mstorage_options\u001B[49m\n\u001B[1;32m   1654\u001B[0m \u001B[43m    \u001B[49m\u001B[43m)\u001B[49m\n\u001B[1;32m   1655\u001B[0m     \u001B[38;5;28;01mif\u001B[39;00m ext \u001B[38;5;129;01mis\u001B[39;00m \u001B[38;5;28;01mNone\u001B[39;00m:\n\u001B[1;32m   1656\u001B[0m         \u001B[38;5;28;01mraise\u001B[39;00m \u001B[38;5;167;01mValueError\u001B[39;00m(\n\u001B[1;32m   1657\u001B[0m             \u001B[38;5;124m\"\u001B[39m\u001B[38;5;124mExcel file format cannot be determined, you must specify \u001B[39m\u001B[38;5;124m\"\u001B[39m\n\u001B[1;32m   1658\u001B[0m             \u001B[38;5;124m\"\u001B[39m\u001B[38;5;124man engine manually.\u001B[39m\u001B[38;5;124m\"\u001B[39m\n\u001B[1;32m   1659\u001B[0m         )\n",
      "File \u001B[0;32m/opt/homebrew/lib/python3.9/site-packages/pandas/io/excel/_base.py:1525\u001B[0m, in \u001B[0;36minspect_excel_format\u001B[0;34m(content_or_path, storage_options)\u001B[0m\n\u001B[1;32m   1522\u001B[0m \u001B[38;5;28;01mif\u001B[39;00m \u001B[38;5;28misinstance\u001B[39m(content_or_path, \u001B[38;5;28mbytes\u001B[39m):\n\u001B[1;32m   1523\u001B[0m     content_or_path \u001B[38;5;241m=\u001B[39m BytesIO(content_or_path)\n\u001B[0;32m-> 1525\u001B[0m \u001B[38;5;28;01mwith\u001B[39;00m \u001B[43mget_handle\u001B[49m\u001B[43m(\u001B[49m\n\u001B[1;32m   1526\u001B[0m \u001B[43m    \u001B[49m\u001B[43mcontent_or_path\u001B[49m\u001B[43m,\u001B[49m\u001B[43m \u001B[49m\u001B[38;5;124;43m\"\u001B[39;49m\u001B[38;5;124;43mrb\u001B[39;49m\u001B[38;5;124;43m\"\u001B[39;49m\u001B[43m,\u001B[49m\u001B[43m \u001B[49m\u001B[43mstorage_options\u001B[49m\u001B[38;5;241;43m=\u001B[39;49m\u001B[43mstorage_options\u001B[49m\u001B[43m,\u001B[49m\u001B[43m \u001B[49m\u001B[43mis_text\u001B[49m\u001B[38;5;241;43m=\u001B[39;49m\u001B[38;5;28;43;01mFalse\u001B[39;49;00m\n\u001B[1;32m   1527\u001B[0m \u001B[43m\u001B[49m\u001B[43m)\u001B[49m \u001B[38;5;28;01mas\u001B[39;00m handle:\n\u001B[1;32m   1528\u001B[0m     stream \u001B[38;5;241m=\u001B[39m handle\u001B[38;5;241m.\u001B[39mhandle\n\u001B[1;32m   1529\u001B[0m     stream\u001B[38;5;241m.\u001B[39mseek(\u001B[38;5;241m0\u001B[39m)\n",
      "File \u001B[0;32m/opt/homebrew/lib/python3.9/site-packages/pandas/io/common.py:865\u001B[0m, in \u001B[0;36mget_handle\u001B[0;34m(path_or_buf, mode, encoding, compression, memory_map, is_text, errors, storage_options)\u001B[0m\n\u001B[1;32m    856\u001B[0m         handle \u001B[38;5;241m=\u001B[39m \u001B[38;5;28mopen\u001B[39m(\n\u001B[1;32m    857\u001B[0m             handle,\n\u001B[1;32m    858\u001B[0m             ioargs\u001B[38;5;241m.\u001B[39mmode,\n\u001B[0;32m   (...)\u001B[0m\n\u001B[1;32m    861\u001B[0m             newline\u001B[38;5;241m=\u001B[39m\u001B[38;5;124m\"\u001B[39m\u001B[38;5;124m\"\u001B[39m,\n\u001B[1;32m    862\u001B[0m         )\n\u001B[1;32m    863\u001B[0m     \u001B[38;5;28;01melse\u001B[39;00m:\n\u001B[1;32m    864\u001B[0m         \u001B[38;5;66;03m# Binary mode\u001B[39;00m\n\u001B[0;32m--> 865\u001B[0m         handle \u001B[38;5;241m=\u001B[39m \u001B[38;5;28;43mopen\u001B[39;49m\u001B[43m(\u001B[49m\u001B[43mhandle\u001B[49m\u001B[43m,\u001B[49m\u001B[43m \u001B[49m\u001B[43mioargs\u001B[49m\u001B[38;5;241;43m.\u001B[39;49m\u001B[43mmode\u001B[49m\u001B[43m)\u001B[49m\n\u001B[1;32m    866\u001B[0m     handles\u001B[38;5;241m.\u001B[39mappend(handle)\n\u001B[1;32m    868\u001B[0m \u001B[38;5;66;03m# Convert BytesIO or file objects passed with an encoding\u001B[39;00m\n",
      "\u001B[0;31mFileNotFoundError\u001B[0m: [Errno 2] No such file or directory: 'ROC_Data.xlsx'"
     ]
    }
   ],
   "execution_count": 5
  },
  {
   "cell_type": "code",
   "id": "7670679c-28bb-4ba7-93ed-859584679c16",
   "metadata": {
    "scrolled": true,
    "ExecuteTime": {
     "end_time": "2024-11-15T04:48:45.397237Z",
     "start_time": "2024-11-15T04:48:45.384447Z"
    }
   },
   "source": [
    "df"
   ],
   "outputs": [
    {
     "ename": "NameError",
     "evalue": "name 'df' is not defined",
     "output_type": "error",
     "traceback": [
      "\u001B[0;31m---------------------------------------------------------------------------\u001B[0m",
      "\u001B[0;31mNameError\u001B[0m                                 Traceback (most recent call last)",
      "Input \u001B[0;32mIn [8]\u001B[0m, in \u001B[0;36m<module>\u001B[0;34m\u001B[0m\n\u001B[0;32m----> 1\u001B[0m \u001B[43mdf\u001B[49m\n",
      "\u001B[0;31mNameError\u001B[0m: name 'df' is not defined"
     ]
    }
   ],
   "execution_count": 8
  },
  {
   "cell_type": "code",
   "execution_count": 260,
   "id": "1174b254-ab67-4aaa-8a6e-ff63749daee4",
   "metadata": {},
   "outputs": [],
   "source": [
    "x = np.arange(0, 1, 0.001)\n"
   ]
  },
  {
   "cell_type": "code",
   "execution_count": 261,
   "id": "57e1d405-220a-4ff5-a5d6-530d04ef970a",
   "metadata": {},
   "outputs": [
    {
     "data": {
      "image/png": "[encoded data removed]",
      "text/plain": [
       "<Figure size 432x432 with 1 Axes>"
      ]
     },
     "metadata": {
      "needs_background": "light"
     },
     "output_type": "display_data"
    }
   ],
   "source": [
    "plt.figure(figsize=(6,6));\n",
    "plt.plot(df.FPR,df.TPR, marker='o', linestyle='-', color='b', label='ROC Curve')\n",
    "plt.plot(x, x,color='r',label='Random Guess')\n",
    "\n",
    "# Add labels and title\n",
    "plt.xlabel('False Positive Rate (FPR)')\n",
    "plt.ylabel('True Positive Rate (TPR)')\n",
    "plt.title('ROC Curve')\n",
    "plt.legend()\n",
    "plt.grid()\n",
    "plt.show()\n"
   ]
  },
  {
   "cell_type": "markdown",
   "id": "b467e9e5-0132-4b79-ba53-176c41d5ed71",
   "metadata": {},
   "source": [
    "**8.14) Comparing  models M1 and M2, given their error rates:**"
   ]
  },
  {
   "cell_type": "markdown",
   "id": "935c3085-bc3d-4462-a7a1-0f22dff8927a",
   "metadata": {},
   "source": [
    "Is one model significantly better than the other based on an alpha=0.01?"
   ]
  },
  {
   "cell_type": "markdown",
   "id": "090a0901-731c-4103-b5e4-93536bd3a243",
   "metadata": {},
   "source": [
    "**MANUAL SOLUTION:**"
   ]
  },
  {
   "cell_type": "code",
   "id": "81468b0b-fbd7-4bd3-97ed-96c91a6924e0",
   "metadata": {
    "ExecuteTime": {
     "end_time": "2024-11-15T04:48:49.968982Z",
     "start_time": "2024-11-15T04:48:49.964325Z"
    }
   },
   "source": [
    "M1=[30.5,32.2,20.7,20.6,31,41,27.7,26,21.5,26]\n",
    "\n",
    "M2=[22.4,14.5,22.4,19.6,20.7,20.4,22.1,19.4,16.2,35]"
   ],
   "outputs": [],
   "execution_count": 9
  },
  {
   "cell_type": "code",
   "id": "e76fb5b7-83c3-4cdf-88c5-4903021d66a8",
   "metadata": {
    "ExecuteTime": {
     "end_time": "2024-11-15T04:48:53.784165Z",
     "start_time": "2024-11-15T04:48:53.779741Z"
    }
   },
   "source": [
    "alpha=0.01"
   ],
   "outputs": [],
   "execution_count": 10
  },
  {
   "cell_type": "markdown",
   "id": "fd2e6d09-2028-4450-b267-c0e00802e831",
   "metadata": {},
   "source": [
    "Here, a paired t-test can be applied with the null hypothesis being:\n",
    "\n",
    "- **Null Hypothesis (H₀):** $ \\mu_1 = \\mu_2 $\n",
    "- **Alternative Hypothesis (H₁):** $ \\mu_1 \\neq \\mu_2 $\n"
   ]
  },
  {
   "cell_type": "code",
   "id": "e3031de1-1df2-4ba8-bbc4-68268ef9d611",
   "metadata": {
    "ExecuteTime": {
     "end_time": "2024-11-15T04:48:57.213056Z",
     "start_time": "2024-11-15T04:48:57.208930Z"
    }
   },
   "source": [
    "mu1=np.mean(M1)\n",
    "mu2=np.mean(M2)\n",
    "n=len(M1)"
   ],
   "outputs": [],
   "execution_count": 11
  },
  {
   "cell_type": "markdown",
   "id": "ee91f180-f2e1-4316-a2a1-4be173bb55d6",
   "metadata": {},
   "source": [
    "Standart Deviations for a paired sample t test:"
   ]
  },
  {
   "cell_type": "code",
   "id": "42e29154-b717-45fb-b2b0-7265d2a9065e",
   "metadata": {
    "ExecuteTime": {
     "end_time": "2024-11-15T04:49:03.969119Z",
     "start_time": "2024-11-15T04:49:03.964765Z"
    }
   },
   "source": [
    "#Here we will use n as this is the population we have:\n",
    "var = (1 / n) * sum([(M1[i] - M2[i] - (mu1 - mu2))**2 for i in range(n)])\n",
    "print(\"Variance:\", round(var,3))"
   ],
   "outputs": [
    {
     "name": "stdout",
     "output_type": "stream",
     "text": [
      "Variance: 68.123\n"
     ]
    }
   ],
   "execution_count": 12
  },
  {
   "cell_type": "markdown",
   "id": "3a221521-3754-42ab-be2d-bd809454b640",
   "metadata": {},
   "source": [
    "**t-statistic is given as:**\n",
    "$$ t=\\frac{(\\mu_1-\\mu_2)-0}{\\sqrt\\frac{var}{n}}$$"
   ]
  },
  {
   "cell_type": "code",
   "id": "3f010c84-d5f0-4619-8223-2aff0bda1f4a",
   "metadata": {
    "ExecuteTime": {
     "end_time": "2024-11-15T04:49:07.655157Z",
     "start_time": "2024-11-15T04:49:07.648611Z"
    }
   },
   "source": [
    "t=(mu1-mu2)/np.sqrt(var/n)\n",
    "t"
   ],
   "outputs": [
    {
     "data": {
      "text/plain": [
       "2.4712371600876786"
      ]
     },
     "execution_count": 13,
     "metadata": {},
     "output_type": "execute_result"
    }
   ],
   "execution_count": 13
  },
  {
   "cell_type": "code",
   "id": "e29c0d03-9af3-4764-bb4e-1d6839157802",
   "metadata": {
    "ExecuteTime": {
     "end_time": "2024-11-15T04:49:10.357583Z",
     "start_time": "2024-11-15T04:49:10.354651Z"
    }
   },
   "source": [
    "dof=n-1"
   ],
   "outputs": [],
   "execution_count": 14
  },
  {
   "cell_type": "markdown",
   "id": "9fba1c97-f75a-4cea-ae19-6c7c2b6570e0",
   "metadata": {},
   "source": [
    "Using the t value and the dof=9 above we should check the critical t-value for the given alpha.  \n",
    "Here this is **two-sided t-test**!  \n",
    "**Checking from the tables t critical values  on both ends are:**\n",
    "$$t_{critical}=\\pm{ 3.2498}$$\n"
   ]
  },
  {
   "cell_type": "markdown",
   "id": "ea429019-bbc7-4919-94a0-6ac1c0f776e1",
   "metadata": {},
   "source": [
    "**Our value t=2.471 is within the Confidence region.Therefore we FAIL TO REJECT the NULL.  \n",
    "**The two models are not significantly different.**"
   ]
  },
  {
   "cell_type": "markdown",
   "id": "1653ab55-2ad6-4b4d-9a82-b7cf98dff699",
   "metadata": {},
   "source": [
    "**SOLVING USING SCIPY:**"
   ]
  },
  {
   "cell_type": "code",
   "id": "c3d1b50f-0dbd-45ef-8b61-d9aec6c3329e",
   "metadata": {
    "ExecuteTime": {
     "end_time": "2024-11-15T04:49:31.765659Z",
     "start_time": "2024-11-15T04:49:31.762975Z"
    }
   },
   "source": [
    "from scipy.stats import ttest_rel\n",
    "t_stat, p_value = ttest_rel(M1, M2)\n",
    "# Print results\n",
    "print(f\"T-statistic: {t_stat}\")\n",
    "print(f\"P-value: {p_value}\")\n",
    "\n",
    "# Determine if we reject the null hypothesis\n",
    "if p_value < alpha:\n",
    "    print(\"Reject the null hypothesis: There is a significant difference in errors between the models.\")\n",
    "else:\n",
    "    print(\"Fail to reject the null hypothesis: No significant difference in errors between the models.\")\n"
   ],
   "outputs": [
    {
     "name": "stdout",
     "output_type": "stream",
     "text": [
      "T-statistic: 2.344421419296965\n",
      "P-value: 0.043702633095373596\n",
      "Fail to reject the null hypothesis: No significant difference in errors between the models.\n"
     ]
    }
   ],
   "execution_count": 18
  },
  {
   "cell_type": "markdown",
   "id": "acac0986-c756-463f-b1b8-dccc0bb96b53",
   "metadata": {},
   "source": [
    "The reason T-statistic is slighly different here is it used (n-1) in calculating the Var.  \n",
    "I used the equation 8.32 given in the book.\n",
    "But the conclusion is the same."
   ]
  },
  {
   "cell_type": "markdown",
   "id": "2461f328-804e-4897-bc44-e247242a0b43",
   "metadata": {},
   "source": [
    "## **Problem 6**"
   ]
  },
  {
   "cell_type": "code",
   "id": "19c841b8-595c-4ba3-9502-bdda5cd1a7e1",
   "metadata": {
    "ExecuteTime": {
     "end_time": "2024-11-15T04:49:42.445563Z",
     "start_time": "2024-11-15T04:49:42.430165Z"
    }
   },
   "source": [
    "table = {\n",
    "    'Age': ['<= 25', '<= 25', '26-35', '> 35', '> 35', '26-35', '<= 25', '<= 25', '26-35', '> 35', \n",
    "            '<= 25', '26-35', '26-35', '> 35', '> 35'],\n",
    "    'Income': ['Low', 'High', 'Medium', 'High', 'Low', 'Low', 'Medium', 'High', 'Medium', 'Medium', \n",
    "               'Low', 'High', 'Medium', 'High', 'Medium'],\n",
    "    'Employed': ['No', 'Yes', 'Yes', 'Yes', 'No', 'Yes', 'No', 'Yes', 'No','Yes', \n",
    "                 'No', 'Yes', 'Yes', 'No','Yes'],\n",
    "    'Credit Score': ['Fair', 'Excellent', 'Fair', 'Excellent', 'Fair', 'Excellent',  'Fair', 'Fair', 'Excellent','Fair', 'Fair', \n",
    "                     'Excellent','Fair', 'Fair', 'Excellent'],\n",
    "    'Property Owner': ['No', 'Yes','No', 'Yes','No','No', 'No', 'Yes','Yes', 'No','No', 'Yes','Yes', 'No','Yes'],\n",
    "    'Loan Approved': ['Denied', 'Approved', 'Approved', 'Approved','Denied', 'Approved', 'Denied', 'Approved', \n",
    "                      'Approved', 'Approved', 'Denied', 'Approved', 'Approved', 'Denied', 'Approved']\n",
    "}\n",
    "\n",
    "# Create DataFrame\n",
    "df = pd.DataFrame(table)\n",
    "df\n"
   ],
   "outputs": [
    {
     "data": {
      "text/plain": [
       "      Age  Income Employed Credit Score Property Owner Loan Approved\n",
       "0   <= 25     Low       No         Fair             No        Denied\n",
       "1   <= 25    High      Yes    Excellent            Yes      Approved\n",
       "2   26-35  Medium      Yes         Fair             No      Approved\n",
       "3    > 35    High      Yes    Excellent            Yes      Approved\n",
       "4    > 35     Low       No         Fair             No        Denied\n",
       "5   26-35     Low      Yes    Excellent             No      Approved\n",
       "6   <= 25  Medium       No         Fair             No        Denied\n",
       "7   <= 25    High      Yes         Fair            Yes      Approved\n",
       "8   26-35  Medium       No    Excellent            Yes      Approved\n",
       "9    > 35  Medium      Yes         Fair             No      Approved\n",
       "10  <= 25     Low       No         Fair             No        Denied\n",
       "11  26-35    High      Yes    Excellent            Yes      Approved\n",
       "12  26-35  Medium      Yes         Fair            Yes      Approved\n",
       "13   > 35    High       No         Fair             No        Denied\n",
       "14   > 35  Medium      Yes    Excellent            Yes      Approved"
      ],
      "text/html": [
       "<div>\n",
       "<style scoped>\n",
       "    .dataframe tbody tr th:only-of-type {\n",
       "        vertical-align: middle;\n",
       "    }\n",
       "\n",
       "    .dataframe tbody tr th {\n",
       "        vertical-align: top;\n",
       "    }\n",
       "\n",
       "    .dataframe thead th {\n",
       "        text-align: right;\n",
       "    }\n",
       "</style>\n",
       "<table border=\"1\" class=\"dataframe\">\n",
       "  <thead>\n",
       "    <tr style=\"text-align: right;\">\n",
       "      <th></th>\n",
       "      <th>Age</th>\n",
       "      <th>Income</th>\n",
       "      <th>Employed</th>\n",
       "      <th>Credit Score</th>\n",
       "      <th>Property Owner</th>\n",
       "      <th>Loan Approved</th>\n",
       "    </tr>\n",
       "  </thead>\n",
       "  <tbody>\n",
       "    <tr>\n",
       "      <th>0</th>\n",
       "      <td>&lt;= 25</td>\n",
       "      <td>Low</td>\n",
       "      <td>No</td>\n",
       "      <td>Fair</td>\n",
       "      <td>No</td>\n",
       "      <td>Denied</td>\n",
       "    </tr>\n",
       "    <tr>\n",
       "      <th>1</th>\n",
       "      <td>&lt;= 25</td>\n",
       "      <td>High</td>\n",
       "      <td>Yes</td>\n",
       "      <td>Excellent</td>\n",
       "      <td>Yes</td>\n",
       "      <td>Approved</td>\n",
       "    </tr>\n",
       "    <tr>\n",
       "      <th>2</th>\n",
       "      <td>26-35</td>\n",
       "      <td>Medium</td>\n",
       "      <td>Yes</td>\n",
       "      <td>Fair</td>\n",
       "      <td>No</td>\n",
       "      <td>Approved</td>\n",
       "    </tr>\n",
       "    <tr>\n",
       "      <th>3</th>\n",
       "      <td>&gt; 35</td>\n",
       "      <td>High</td>\n",
       "      <td>Yes</td>\n",
       "      <td>Excellent</td>\n",
       "      <td>Yes</td>\n",
       "      <td>Approved</td>\n",
       "    </tr>\n",
       "    <tr>\n",
       "      <th>4</th>\n",
       "      <td>&gt; 35</td>\n",
       "      <td>Low</td>\n",
       "      <td>No</td>\n",
       "      <td>Fair</td>\n",
       "      <td>No</td>\n",
       "      <td>Denied</td>\n",
       "    </tr>\n",
       "    <tr>\n",
       "      <th>5</th>\n",
       "      <td>26-35</td>\n",
       "      <td>Low</td>\n",
       "      <td>Yes</td>\n",
       "      <td>Excellent</td>\n",
       "      <td>No</td>\n",
       "      <td>Approved</td>\n",
       "    </tr>\n",
       "    <tr>\n",
       "      <th>6</th>\n",
       "      <td>&lt;= 25</td>\n",
       "      <td>Medium</td>\n",
       "      <td>No</td>\n",
       "      <td>Fair</td>\n",
       "      <td>No</td>\n",
       "      <td>Denied</td>\n",
       "    </tr>\n",
       "    <tr>\n",
       "      <th>7</th>\n",
       "      <td>&lt;= 25</td>\n",
       "      <td>High</td>\n",
       "      <td>Yes</td>\n",
       "      <td>Fair</td>\n",
       "      <td>Yes</td>\n",
       "      <td>Approved</td>\n",
       "    </tr>\n",
       "    <tr>\n",
       "      <th>8</th>\n",
       "      <td>26-35</td>\n",
       "      <td>Medium</td>\n",
       "      <td>No</td>\n",
       "      <td>Excellent</td>\n",
       "      <td>Yes</td>\n",
       "      <td>Approved</td>\n",
       "    </tr>\n",
       "    <tr>\n",
       "      <th>9</th>\n",
       "      <td>&gt; 35</td>\n",
       "      <td>Medium</td>\n",
       "      <td>Yes</td>\n",
       "      <td>Fair</td>\n",
       "      <td>No</td>\n",
       "      <td>Approved</td>\n",
       "    </tr>\n",
       "    <tr>\n",
       "      <th>10</th>\n",
       "      <td>&lt;= 25</td>\n",
       "      <td>Low</td>\n",
       "      <td>No</td>\n",
       "      <td>Fair</td>\n",
       "      <td>No</td>\n",
       "      <td>Denied</td>\n",
       "    </tr>\n",
       "    <tr>\n",
       "      <th>11</th>\n",
       "      <td>26-35</td>\n",
       "      <td>High</td>\n",
       "      <td>Yes</td>\n",
       "      <td>Excellent</td>\n",
       "      <td>Yes</td>\n",
       "      <td>Approved</td>\n",
       "    </tr>\n",
       "    <tr>\n",
       "      <th>12</th>\n",
       "      <td>26-35</td>\n",
       "      <td>Medium</td>\n",
       "      <td>Yes</td>\n",
       "      <td>Fair</td>\n",
       "      <td>Yes</td>\n",
       "      <td>Approved</td>\n",
       "    </tr>\n",
       "    <tr>\n",
       "      <th>13</th>\n",
       "      <td>&gt; 35</td>\n",
       "      <td>High</td>\n",
       "      <td>No</td>\n",
       "      <td>Fair</td>\n",
       "      <td>No</td>\n",
       "      <td>Denied</td>\n",
       "    </tr>\n",
       "    <tr>\n",
       "      <th>14</th>\n",
       "      <td>&gt; 35</td>\n",
       "      <td>Medium</td>\n",
       "      <td>Yes</td>\n",
       "      <td>Excellent</td>\n",
       "      <td>Yes</td>\n",
       "      <td>Approved</td>\n",
       "    </tr>\n",
       "  </tbody>\n",
       "</table>\n",
       "</div>"
      ]
     },
     "execution_count": 19,
     "metadata": {},
     "output_type": "execute_result"
    }
   ],
   "execution_count": 19
  },
  {
   "cell_type": "code",
   "id": "dfe17a4e-c08e-4359-9320-374506dc5b34",
   "metadata": {
    "ExecuteTime": {
     "end_time": "2024-11-15T04:49:50.183041Z",
     "start_time": "2024-11-15T04:49:50.179195Z"
    }
   },
   "source": [
    "\n",
    "# results = {}\n",
    "# for col in df.columns:\n",
    "#     if col != 'Loan Approved':\n",
    "#         # Group by the current column and 'Loan Approved', then get the counts\n",
    "#         grouped_counts = df.groupby([col, 'Loan Approved']).size().reset_index(name='Counts')\n",
    "#         # Store the result in the dictionary with the column name as the key\n",
    "#         results[f'AVC for {col}'] = grouped_counts\n",
    "\n",
    "# # Results:\n",
    "# for key, value in results.items():\n",
    "#     print(f\"{key}:\")\n",
    "#     print(value)\n",
    "#     print()\n"
   ],
   "outputs": [],
   "execution_count": 21
  },
  {
   "cell_type": "code",
   "id": "ecf3ef37-1b93-46e2-97d8-e15d02335883",
   "metadata": {
    "ExecuteTime": {
     "end_time": "2024-11-15T04:49:53.283406Z",
     "start_time": "2024-11-15T04:49:53.248838Z"
    }
   },
   "source": [
    "# Dictionary to store the contingency tables for each feature\n",
    "avc_tables = {}\n",
    "\n",
    "for col in df.columns:\n",
    "    if col != 'Loan Approved':\n",
    "        # Create a contingency table with Approved and Denied as columns\n",
    "        table = pd.crosstab(df[col], df['Loan Approved'])\n",
    "        \n",
    "        # Store the contingency table in the dictionary\n",
    "        avc_tables[f'AVC for {col}'] = table\n",
    "\n",
    "# Display each contingency table\n",
    "for key, table in avc_tables.items():\n",
    "    print(f\"{key}:\")\n",
    "    print('____________________')\n",
    "    print(table)\n",
    "    print()\n",
    "    \n"
   ],
   "outputs": [
    {
     "name": "stdout",
     "output_type": "stream",
     "text": [
      "AVC for Age:\n",
      "____________________\n",
      "Loan Approved  Approved  Denied\n",
      "Age                            \n",
      "26-35                 5       0\n",
      "<= 25                 2       3\n",
      "> 35                  3       2\n",
      "\n",
      "AVC for Income:\n",
      "____________________\n",
      "Loan Approved  Approved  Denied\n",
      "Income                         \n",
      "High                  4       1\n",
      "Low                   1       3\n",
      "Medium                5       1\n",
      "\n",
      "AVC for Employed:\n",
      "____________________\n",
      "Loan Approved  Approved  Denied\n",
      "Employed                       \n",
      "No                    1       5\n",
      "Yes                   9       0\n",
      "\n",
      "AVC for Credit Score:\n",
      "____________________\n",
      "Loan Approved  Approved  Denied\n",
      "Credit Score                   \n",
      "Excellent             6       0\n",
      "Fair                  4       5\n",
      "\n",
      "AVC for Property Owner:\n",
      "____________________\n",
      "Loan Approved   Approved  Denied\n",
      "Property Owner                  \n",
      "No                     3       5\n",
      "Yes                    7       0\n",
      "\n"
     ]
    }
   ],
   "execution_count": 22
  },
  {
   "cell_type": "markdown",
   "id": "8c899fd5-6312-4c16-8ee5-8790f13cbb83",
   "metadata": {},
   "source": [
    "## **Problem 7**"
   ]
  },
  {
   "cell_type": "markdown",
   "id": "22b9bab7-ea26-4263-b228-a8362629b9be",
   "metadata": {},
   "source": [
    "**a) Expected entropy:**"
   ]
  },
  {
   "cell_type": "code",
   "id": "a0daf8e9-dbf1-448e-a1a3-0731be91d449",
   "metadata": {
    "ExecuteTime": {
     "end_time": "2024-11-15T04:50:01.767142Z",
     "start_time": "2024-11-15T04:50:01.751003Z"
    }
   },
   "source": [
    "df['Loan Approved'].value_counts()"
   ],
   "outputs": [
    {
     "data": {
      "text/plain": [
       "Approved    10\n",
       "Denied       5\n",
       "Name: Loan Approved, dtype: int64"
      ]
     },
     "execution_count": 23,
     "metadata": {},
     "output_type": "execute_result"
    }
   ],
   "execution_count": 23
  },
  {
   "cell_type": "code",
   "execution_count": 250,
   "id": "3156c1d7-51ec-48ee-a1a1-4a966dd3b480",
   "metadata": {},
   "outputs": [
    {
     "name": "stdout",
     "output_type": "stream",
     "text": [
      "Entropy of the data set given=  0.9182958340544896\n"
     ]
    }
   ],
   "source": [
    "p1=10/15\n",
    "p2=5/15\n",
    "entropy=-p1*np.log2(p1)-p2*np.log2(p2)\n",
    "print('Entropy of the data set given= ',entropy)\n"
   ]
  },
  {
   "cell_type": "markdown",
   "id": "198a1a9a-c96b-42db-8ad1-899c8833c350",
   "metadata": {},
   "source": [
    "**b) Information needed after first Split based on 'Credit Score':**"
   ]
  },
  {
   "cell_type": "code",
   "execution_count": 251,
   "id": "ee61be33-26e6-448a-b443-b5a92a6b28fa",
   "metadata": {},
   "outputs": [
    {
     "data": {
      "text/html": [
       "<div>\n",
       "<style scoped>\n",
       "    .dataframe tbody tr th:only-of-type {\n",
       "        vertical-align: middle;\n",
       "    }\n",
       "\n",
       "    .dataframe tbody tr th {\n",
       "        vertical-align: top;\n",
       "    }\n",
       "\n",
       "    .dataframe thead th {\n",
       "        text-align: right;\n",
       "    }\n",
       "</style>\n",
       "<table border=\"1\" class=\"dataframe\">\n",
       "  <thead>\n",
       "    <tr style=\"text-align: right;\">\n",
       "      <th>Loan Approved</th>\n",
       "      <th>Approved</th>\n",
       "      <th>Denied</th>\n",
       "    </tr>\n",
       "    <tr>\n",
       "      <th>Credit Score</th>\n",
       "      <th></th>\n",
       "      <th></th>\n",
       "    </tr>\n",
       "  </thead>\n",
       "  <tbody>\n",
       "    <tr>\n",
       "      <th>Excellent</th>\n",
       "      <td>6</td>\n",
       "      <td>0</td>\n",
       "    </tr>\n",
       "    <tr>\n",
       "      <th>Fair</th>\n",
       "      <td>4</td>\n",
       "      <td>5</td>\n",
       "    </tr>\n",
       "  </tbody>\n",
       "</table>\n",
       "</div>"
      ],
      "text/plain": [
       "Loan Approved  Approved  Denied\n",
       "Credit Score                   \n",
       "Excellent             6       0\n",
       "Fair                  4       5"
      ]
     },
     "execution_count": 251,
     "metadata": {},
     "output_type": "execute_result"
    }
   ],
   "source": [
    "df_credit=avc_tables['AVC for Credit Score']\n",
    "df_credit"
   ]
  },
  {
   "cell_type": "markdown",
   "id": "e8a3d679-7a6c-4bbd-9080-91fc61ebf92d",
   "metadata": {},
   "source": [
    "$$\n",
    "\\text{Info}_{\\text{credit}}(D) = \\left( \\frac{6}{15} \\right) I(6, 0) + \\left( \\frac{9}{15} \\right) I(4, 5)  $$\n"
   ]
  },
  {
   "cell_type": "code",
   "execution_count": 240,
   "id": "ffcf8c0d-9dae-4496-a1f1-64704c010f4f",
   "metadata": {},
   "outputs": [
    {
     "name": "stdout",
     "output_type": "stream",
     "text": [
      "-0.0 0\n",
      "0.5199666673076944 0.4711093925305278\n",
      "Info needed after splitting by Credit Score:  0.595\n"
     ]
    }
   ],
   "source": [
    "branch_prob = np.divide([6,9], 15)\n",
    "credit_Ipairs = [(6, 0), (4, 5)]\n",
    "\n",
    "# Calculate entropy for each branch\n",
    "branch_ent = []\n",
    "for x, y in credit_Ipairs:\n",
    "    # Calculate probabilities\n",
    "    p1 = x / (x + y) if x + y > 0 else 0\n",
    "    p2 = y / (x + y) if x + y > 0 else 0\n",
    "    \n",
    "    # Entropy calculation with zero check\n",
    "    ent1 = 0\n",
    "    ent2 = 0\n",
    "    if p1 > 0:\n",
    "        ent1 = -p1 * np.log2(p1)\n",
    "    if p2 > 0:\n",
    "        ent2 = -p2 * np.log2(p2)\n",
    "    print(ent1, ent2)\n",
    "    branch_ent.append(ent1+ent2)\n",
    "\n",
    "# Calculate Info_credit\n",
    "info_credit = sum(branch_prob[i] * branch_ent[i] for i in range(len(branch_ent)))\n",
    "\n",
    "print('Info needed after splitting by Credit Score: ', round(info_credit,3))\n"
   ]
  },
  {
   "cell_type": "markdown",
   "id": "33001ea5-c664-41f2-a86f-c58a383c6e41",
   "metadata": {},
   "source": [
    "**c) Information gain after first Split based on 'Credit Score':**\n",
    "$$ Info Gain_{Credit Score}=Info(D)-Info_{CreditScore}(D) $$"
   ]
  },
  {
   "cell_type": "code",
   "execution_count": 241,
   "id": "a4984f03-3a2a-466d-a10a-91a3b8dfb05c",
   "metadata": {},
   "outputs": [
    {
     "name": "stdout",
     "output_type": "stream",
     "text": [
      "Gain after first splitting on Credit Score=  0.324\n"
     ]
    }
   ],
   "source": [
    "info_D=entropy\n",
    "Gain_credit=info_D-info_credit\n",
    "print('Gain after first splitting on Credit Score= ',round(Gain_credit,3))"
   ]
  },
  {
   "cell_type": "markdown",
   "id": "2d65ac22-83e5-48b8-9bd1-39f949a30132",
   "metadata": {},
   "source": [
    "### **$GAIN_{Credit Score}=0.324$**"
   ]
  },
  {
   "cell_type": "markdown",
   "id": "08b494aa-37c9-4bf1-bfea-5224f288c128",
   "metadata": {},
   "source": [
    "**d) Information needed after first split based on 'Income':**"
   ]
  },
  {
   "cell_type": "code",
   "execution_count": 244,
   "id": "622ef2bd-3eb6-4e03-8f42-9bab22ad6aee",
   "metadata": {},
   "outputs": [
    {
     "data": {
      "text/html": [
       "<div>\n",
       "<style scoped>\n",
       "    .dataframe tbody tr th:only-of-type {\n",
       "        vertical-align: middle;\n",
       "    }\n",
       "\n",
       "    .dataframe tbody tr th {\n",
       "        vertical-align: top;\n",
       "    }\n",
       "\n",
       "    .dataframe thead th {\n",
       "        text-align: right;\n",
       "    }\n",
       "</style>\n",
       "<table border=\"1\" class=\"dataframe\">\n",
       "  <thead>\n",
       "    <tr style=\"text-align: right;\">\n",
       "      <th>Loan Approved</th>\n",
       "      <th>Approved</th>\n",
       "      <th>Denied</th>\n",
       "    </tr>\n",
       "    <tr>\n",
       "      <th>Income</th>\n",
       "      <th></th>\n",
       "      <th></th>\n",
       "    </tr>\n",
       "  </thead>\n",
       "  <tbody>\n",
       "    <tr>\n",
       "      <th>High</th>\n",
       "      <td>4</td>\n",
       "      <td>1</td>\n",
       "    </tr>\n",
       "    <tr>\n",
       "      <th>Low</th>\n",
       "      <td>1</td>\n",
       "      <td>3</td>\n",
       "    </tr>\n",
       "    <tr>\n",
       "      <th>Medium</th>\n",
       "      <td>5</td>\n",
       "      <td>1</td>\n",
       "    </tr>\n",
       "  </tbody>\n",
       "</table>\n",
       "</div>"
      ],
      "text/plain": [
       "Loan Approved  Approved  Denied\n",
       "Income                         \n",
       "High                  4       1\n",
       "Low                   1       3\n",
       "Medium                5       1"
      ]
     },
     "execution_count": 244,
     "metadata": {},
     "output_type": "execute_result"
    }
   ],
   "source": [
    "df_income=avc_tables['AVC for Income']\n",
    "df_income"
   ]
  },
  {
   "cell_type": "markdown",
   "id": "5e07bd4d-3b2d-4ad5-9aff-9332b4efebec",
   "metadata": {},
   "source": [
    "$$ \\text{Info}_{\\text{income}}(D) = \\left( \\frac{5}{15} \\right) I(4, 1) + \\left( \\frac{4}{15} \\right) I(1, 3) + \\left( \\frac{6}{15} \\right) I(5, 1) $$\n"
   ]
  },
  {
   "cell_type": "code",
   "execution_count": 252,
   "id": "1051df88-7180-48c8-9e38-7119032125a5",
   "metadata": {},
   "outputs": [
    {
     "name": "stdout",
     "output_type": "stream",
     "text": [
      "0.2575424759098898 0.46438561897747244\n",
      "0.5 0.31127812445913283\n",
      "0.21919533819482817 0.430827083453526\n",
      "Info needed after splitting by In Income:  0.717\n"
     ]
    }
   ],
   "source": [
    "branch_prob = np.divide([5, 4,6], 15)\n",
    "income_Ipairs = [(4,1), (1,3), (5,1)]\n",
    "\n",
    "# Calculate entropy for each branch\n",
    "branch_ent = []\n",
    "for x, y in income_Ipairs:\n",
    "    # Calculate probabilities\n",
    "    p1 = x / (x + y) \n",
    "    p2 = y / (x + y) \n",
    "    # Entropy calculation with zero check\n",
    "    ent1 = 0\n",
    "    ent2 = 0\n",
    "    if p1 > 0:\n",
    "        ent1 = -p1 * np.log2(p1)\n",
    "    if p2 > 0:\n",
    "        ent2 = -p2 * np.log2(p2)\n",
    "    print(ent1, ent2)\n",
    "    branch_ent.append(ent1+ent2)\n",
    "\n",
    "\n",
    "# Calculate Info_credit\n",
    "info_income = sum(branch_prob[i] * branch_ent[i] for i in range(len(branch_ent)))\n",
    "\n",
    "print('Info needed after splitting by In Income: ', round(info_income,3))"
   ]
  },
  {
   "cell_type": "markdown",
   "id": "358ee40f-3ee9-4f1f-9bb4-29389fe1356b",
   "metadata": {},
   "source": [
    "**e) Information gain after first Split based on 'INCOME':**\n",
    "$$ Info Gain_{Income}=Info(D)-Info_{Income}(D) $$"
   ]
  },
  {
   "cell_type": "code",
   "execution_count": 253,
   "id": "09852b7d-ab7a-4e8d-ae30-35c3dee2afd3",
   "metadata": {},
   "outputs": [
    {
     "name": "stdout",
     "output_type": "stream",
     "text": [
      "Gain after first splitting on Income=  0.201\n"
     ]
    }
   ],
   "source": [
    "\n",
    "Gain_income=info_D-info_income\n",
    "print('Gain after first splitting on Income= ',round(Gain_income,3))"
   ]
  },
  {
   "cell_type": "markdown",
   "id": "9399a771-8ad8-416a-a3f9-6c52ba8734e0",
   "metadata": {},
   "source": [
    "### **$GAIN_{Income}=0.201$**"
   ]
  },
  {
   "cell_type": "markdown",
   "id": "d0cd526a-0989-46d6-af43-abbcd743e53e",
   "metadata": {},
   "source": [
    "**f) Based on these splits, CREDIT SCORE splits result in more GAIN than INCOME.So would pick CREDIT SCORE before Income.**"
   ]
  },
  {
   "cell_type": "code",
   "execution_count": 268,
   "id": "a48838c5-ffa6-4627-afb0-9ca47aa67e30",
   "metadata": {},
   "outputs": [
    {
     "data": {
      "text/plain": [
       "2.0"
      ]
     },
     "execution_count": 268,
     "metadata": {},
     "output_type": "execute_result"
    }
   ],
   "source": [
    "np.log10(100)"
   ]
  },
  {
   "cell_type": "code",
   "execution_count": 270,
   "id": "334a16c7-3981-4f73-b0be-d21eca1ff215",
   "metadata": {},
   "outputs": [
    {
     "data": {
      "text/plain": [
       "(-4.605170185988091, -0.01005033585350145)"
      ]
     },
     "execution_count": 270,
     "metadata": {},
     "output_type": "execute_result"
    }
   ],
   "source": [
    "np.log(0.01),np.log(0.99)"
   ]
  },
  {
   "cell_type": "code",
   "execution_count": null,
   "id": "e2174a19-79ff-45e8-8359-b2171f384fa8",
   "metadata": {},
   "outputs": [],
   "source": []
  }
 ],
 "metadata": {
  "kernelspec": {
   "display_name": "Python 3 (ipykernel)",
   "language": "python",
   "name": "python3"
  },
  "language_info": {
   "codemirror_mode": {
    "name": "ipython",
    "version": 3
   },
   "file_extension": ".py",
   "mimetype": "text/x-python",
   "name": "python",
   "nbconvert_exporter": "python",
   "pygments_lexer": "ipython3",
   "version": "3.9.9"
  }
 },
 "nbformat": 4,
 "nbformat_minor": 5
}
